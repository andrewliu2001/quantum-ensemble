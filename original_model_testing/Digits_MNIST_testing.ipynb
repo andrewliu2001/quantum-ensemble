{
 "cells": [
  {
   "cell_type": "code",
   "execution_count": null,
   "metadata": {
    "colab": {
     "base_uri": "https://localhost:8080/"
    },
    "id": "3ycZsoK2Q2Ug",
    "outputId": "11643437-de8d-4418-9a73-68675695f107"
   },
   "outputs": [],
   "source": [
    "pip -q install qiskit"
   ]
  },
  {
   "cell_type": "code",
   "execution_count": null,
   "metadata": {
    "colab": {
     "base_uri": "https://localhost:8080/"
    },
    "id": "PXTipfBQQ9qb",
    "outputId": "7cabd06e-df7e-485c-f46d-253da0a529a7"
   },
   "outputs": [],
   "source": [
    "pip -q install pylatexenc"
   ]
  },
  {
   "cell_type": "code",
   "execution_count": null,
   "metadata": {
    "colab": {
     "base_uri": "https://localhost:8080/"
    },
    "id": "r4xlS8uYQ-MT",
    "outputId": "78ae6689-39c8-424c-dad4-6ad559843c7b"
   },
   "outputs": [],
   "source": [
    "pip -q install ibm_quantum_widgets"
   ]
  },
  {
   "cell_type": "code",
   "execution_count": null,
   "metadata": {},
   "outputs": [],
   "source": [
    "pip -q install matplotlib"
   ]
  },
  {
   "cell_type": "code",
   "execution_count": null,
   "metadata": {},
   "outputs": [],
   "source": [
    "pip -q install keras"
   ]
  },
  {
   "cell_type": "code",
   "execution_count": null,
   "metadata": {},
   "outputs": [],
   "source": [
    "pip -q install sklearn"
   ]
  },
  {
   "cell_type": "code",
   "execution_count": 1,
   "metadata": {
    "id": "ZfLWQZ-PQ6kz"
   },
   "outputs": [],
   "source": [
    "import matplotlib.pyplot as plt\n",
    "import numpy as np\n",
    "import pandas as pd\n",
    "from mpl_toolkits import mplot3d\n",
    "import mpl_toolkits.mplot3d.art3d as art3d\n",
    "from qiskit import *\n",
    "from qiskit.tools.jupyter import *\n",
    "from qiskit.visualization import *\n",
    "from ibm_quantum_widgets import *\n",
    "from qiskit.providers.aer import QasmSimulator\n",
    "import random\n",
    "#from keras.datasets import mnist\n",
    "from sklearn.decomposition import PCA\n",
    "from sklearn.metrics import accuracy_score\n",
    "from sklearn.datasets import load_digits\n",
    "from sklearn.model_selection import train_test_split\n",
    "from sklearn.preprocessing import normalize, StandardScaler\n",
    "\n"
   ]
  },
  {
   "cell_type": "markdown",
   "metadata": {},
   "source": [
    "# Ensemble routine"
   ]
  },
  {
   "cell_type": "code",
   "execution_count": 2,
   "metadata": {
    "id": "TarmaiL2RKGP"
   },
   "outputs": [],
   "source": [
    "def stateprep(x_train, y_train, x_test, d):\n",
    "\n",
    "  \"\"\"\n",
    "  x_train: array of training features (n_samples, 2)\n",
    "  y_train: array of binary training labels (n_samples, )\n",
    "  x_test: array of test features (2, )\n",
    "  d: number of control qubits. Generates 2^d transformations to training data\n",
    "  \"\"\"\n",
    "\n",
    "  N = x_train.shape[0]\n",
    "\n",
    "  control_reg = QuantumRegister(max(d, 1), 'control')\n",
    "    \n",
    "  x_train_reg = QuantumRegister(N, 'x_train')\n",
    "  y_train_reg = QuantumRegister(N, 'y_train')\n",
    "  x_test_reg = QuantumRegister(1, 'x_test')\n",
    "  prediction_reg = QuantumRegister(1, 'prediction')\n",
    "  cr = ClassicalRegister(1, name = \"cr\")\n",
    "\n",
    "\n",
    "\n",
    "  stateprep = QuantumCircuit(control_reg, x_train_reg, y_train_reg, x_test_reg, prediction_reg, cr)\n",
    "\n",
    "  #create uniform superposition of control qubits\n",
    "  for i in range(d):\n",
    "    stateprep.h(control_reg[i])\n",
    "\n",
    "\n",
    "  #initialize training data\n",
    "  for i in range(x_train.shape[0]):\n",
    "    stateprep.initialize(x_train[i]/np.linalg.norm(x_train[i]), i+d)\n",
    "\n",
    "  for i in range(y_train.shape[0]):\n",
    "    if y_train[i] == 1:\n",
    "      stateprep.initialize([0, 1], i+d+x_train.shape[0])\n",
    "    else:\n",
    "      stateprep.initialize([1, 0], i+d+x_train.shape[0])\n",
    "\n",
    "  #initialize test data\n",
    "  stateprep.initialize(x_test/np.linalg.norm(x_test), d+2*N)\n",
    "\n",
    "\n",
    "  stateprep.barrier()\n",
    "\n",
    "  return stateprep"
   ]
  },
  {
   "cell_type": "code",
   "execution_count": 3,
   "metadata": {
    "id": "RWFWUUD5RQ0o"
   },
   "outputs": [],
   "source": [
    "def superposition_sampler(N, d):\n",
    "\n",
    "    \"\"\"\n",
    "    x_train: array of training features\n",
    "    y_train: array of binary training labels\n",
    "    x_test: array of test features\n",
    "    d: number of control qubits. Generates 2^d transformations to training data\n",
    "    \"\"\"\n",
    "\n",
    "    control_reg = QuantumRegister(max(d,1), 'control')\n",
    "    x_train_reg = QuantumRegister(N, 'x_train')\n",
    "    y_train_reg = QuantumRegister(N, 'y_train')\n",
    "    x_test_reg = QuantumRegister(1, 'x_test')\n",
    "    prediction_reg = QuantumRegister(1, 'prediction')\n",
    "    cr = ClassicalRegister(1, name = \"cr\")\n",
    "\n",
    "\n",
    "    sampler = QuantumCircuit(control_reg, x_train_reg, y_train_reg, x_test_reg, prediction_reg, cr)\n",
    "\n",
    "\n",
    "    for i in range(d):\n",
    "        l, m = random.sample(range(0,N), 2)\n",
    "        lp, mp = random.sample(range(0,N), 2)\n",
    "\n",
    "        sampler.cswap(control_reg[i], x_train_reg[l], x_train_reg[m])\n",
    "        sampler.cswap(control_reg[i], y_train_reg[l], y_train_reg[m])\n",
    "        sampler.x(i)\n",
    "        sampler.cswap(control_reg[i], x_train_reg[lp], x_train_reg[mp])\n",
    "        sampler.cswap(control_reg[i], y_train_reg[lp], y_train_reg[mp])\n",
    "        sampler.barrier()\n",
    "\n",
    "\n",
    "    return sampler"
   ]
  },
  {
   "cell_type": "code",
   "execution_count": 4,
   "metadata": {},
   "outputs": [
    {
     "data": {
      "text/plain": [
       "[0]"
      ]
     },
     "execution_count": 4,
     "metadata": {},
     "output_type": "execute_result"
    }
   ],
   "source": [
    "list(range(0,1))"
   ]
  },
  {
   "cell_type": "code",
   "execution_count": 5,
   "metadata": {
    "id": "OxUn9R3tRRGK"
   },
   "outputs": [],
   "source": [
    "def cosine_classifier(N, d):\n",
    "\n",
    "  \"\"\"\n",
    "  N: number of train samples\n",
    "  d: number of control qubits. Generates 2^d transformations to training data\n",
    "  \"\"\"\n",
    "  control_reg = QuantumRegister(max(d,1), 'control')\n",
    "  x_train_reg = QuantumRegister(N, 'x_train')\n",
    "  y_train_reg = QuantumRegister(N, 'y_train')\n",
    "  x_test_reg = QuantumRegister(1, 'x_test')\n",
    "  prediction_reg = QuantumRegister(1, 'prediction')\n",
    "  cr = ClassicalRegister(1, name = \"cr\")\n",
    "\n",
    "\n",
    "\n",
    "  f = QuantumCircuit(control_reg, x_train_reg, y_train_reg, x_test_reg, prediction_reg, cr)\n",
    "  f.h(prediction_reg[0])\n",
    "\n",
    "  k = random.sample(range(0, N), 1)\n",
    "\n",
    "  f.cswap(prediction_reg[0], x_train_reg[k], x_test_reg[0])\n",
    "  f.h(prediction_reg[0])\n",
    "  f.cx(y_train_reg[k], prediction_reg[0])\n",
    "  f.barrier()\n",
    "  \n",
    "  return f"
   ]
  },
  {
   "cell_type": "code",
   "execution_count": 52,
   "metadata": {
    "id": "lp5N1OVtRSo3"
   },
   "outputs": [],
   "source": [
    "def measure(N, d):\n",
    "    \"\"\"\n",
    "    N: number of train samples\n",
    "    d: number of control qubits. Generates 2^d transformations to training data\n",
    "    \"\"\"\n",
    "        \n",
    "    control_reg = QuantumRegister(max(d,1), 'control')\n",
    "    x_train_reg = QuantumRegister(N, 'x_train')\n",
    "    y_train_reg = QuantumRegister(N, 'y_train')\n",
    "    x_test_reg = QuantumRegister(1, 'x_test')\n",
    "    prediction_reg = QuantumRegister(1, 'prediction')\n",
    "    cr = ClassicalRegister(1, name = \"cr\")\n",
    "    \n",
    "    m = QuantumCircuit(control_reg, x_train_reg, y_train_reg, x_test_reg, prediction_reg, cr)\n",
    "    m.measure(prediction_reg[0], cr[0])\n",
    "    \n",
    "    return m"
   ]
  },
  {
   "cell_type": "code",
   "execution_count": 53,
   "metadata": {
    "id": "ZI4kpNCcRTps"
   },
   "outputs": [],
   "source": [
    "def plot_data(x_train, y_train, x_test):\n",
    "    '''\n",
    "    x_train: (n_samples, 2)\n",
    "    y_train: (n_samples, )\n",
    "    x_test: (2, )\n",
    "    '''\n",
    "\n",
    "    cdict = {0: 'red', 1: 'blue'}\n",
    "\n",
    "    fig, ax = plt.subplots()\n",
    "    for g in np.unique(y_train):\n",
    "        ix = np.where(y_train == g)\n",
    "        ax.scatter(x_train[ix, 0], x_train[ix, 1], c = cdict[g], label = int(g))\n",
    "    ax.scatter(x_test[0], x_test[1], color='green')\n",
    "    ax.legend()\n",
    "    \n",
    "    plt.xlim([-2,2])\n",
    "    plt.ylim([-2,2])\n",
    "    plt.show()\n",
    "\n",
    "    \"\"\"\n",
    "\n",
    "    x_test = x_test[np.newaxis, :]\n",
    "    x = np.concatenate((x_train, x_test), axis = 0)\n",
    "    y = np.concatenate((y_train, np.asarray([-1])), axis = 0)\n",
    "    \n",
    "    data = pd.DataFrame(columns = ['x1', 'x2', 'y'])\n",
    "    data['x1'] = x[:, 0]\n",
    "    data['x2'] = x[:, 1]\n",
    "    data['y'] = y\n",
    "    \n",
    "    sns.catplot(x='x1', y='x2', hue='y', data=data)\n",
    "    \n",
    "    return\n",
    "\n",
    "    \"\"\""
   ]
  },
  {
   "cell_type": "markdown",
   "metadata": {},
   "source": [
    "# Test on MNIST:"
   ]
  },
  {
   "cell_type": "code",
   "execution_count": 75,
   "metadata": {
    "id": "1mPQsszEesMJ"
   },
   "outputs": [],
   "source": [
    "digits = load_digits()\n",
    "n_samples = len(digits.images)\n",
    "data = digits.images.reshape((n_samples, -1))\n",
    "train_X, test_X, train_y, test_y = train_test_split(\n",
    "    data, digits.target, test_size=0.5, shuffle=True\n",
    ")"
   ]
  },
  {
   "cell_type": "code",
   "execution_count": 76,
   "metadata": {},
   "outputs": [],
   "source": [
    "def process_data(train_X, train_y, test_X, test_y):\n",
    "    #take only the values of y that are 9 or 0 and apply filter\n",
    "    filter_train = (train_y == 9) + (train_y == 0)\n",
    "    train_y = train_y[filter_train]\n",
    "    train_X = train_X[filter_train]\n",
    "\n",
    "\n",
    "    filter_test = (test_y == 9) + (test_y == 0)\n",
    "    test_y = test_y[filter_test]\n",
    "    test_X = test_X[filter_test]\n",
    "    \n",
    "    #Convert to 1s or 0s\n",
    "    train_y = (train_y == 9)\n",
    "    test_y = (test_y == 9)\n",
    "    \n",
    "    #vectorize matrices\n",
    "    train_X = train_X.reshape(train_X.shape[0], -1)\n",
    "    test_X = test_X.reshape(test_X.shape[0], -1)\n",
    "    \n",
    "    #apply standardization\n",
    "    \"\"\"\n",
    "    train_X = StandardScaler().fit_transform(train_X)\n",
    "    test_X = StandardScaler().fit_transform(test_X)\n",
    "    \"\"\"\n",
    "\n",
    "    \n",
    "    #apply PCA\n",
    "    pca = PCA(n_components = 2, svd_solver='full')\n",
    "    pca.fit(train_X)\n",
    "    train_X = pca.transform(train_X)\n",
    "    test_X = pca.transform(test_X)\n",
    "    \n",
    "    #Apply a uniform shift to the data (works better with cosine classifier)\n",
    "    \n",
    "    train_X = train_X + np.array([0, 20])\n",
    "    test_X = test_X + np.array([0, 20])\n",
    "    \n",
    "    #return transformed data\n",
    "    \n",
    "    return train_X, train_y, test_X, test_y"
   ]
  },
  {
   "cell_type": "markdown",
   "metadata": {},
   "source": [
    "Creating equal representation of two classes:"
   ]
  },
  {
   "cell_type": "code",
   "execution_count": 77,
   "metadata": {},
   "outputs": [],
   "source": [
    "def subsample(train_X, train_y, train_sample_sz):\n",
    "    #Take a sample of training data and make sure each label is equally represented\n",
    "    #sample_indices = np.random.randint(low=0,high=train_X.shape[0], size=train_sample_sz)\n",
    "    #train_X = train_X[sample_indices]\n",
    "    #train_y = train_y[sample_indices]\n",
    "\n",
    "    accumulated_sz = 0\n",
    "    ones_count = 0\n",
    "    zeros_count = 0\n",
    "    new_train_y = []\n",
    "    new_train_x = []\n",
    "\n",
    "    while(accumulated_sz < train_sample_sz):\n",
    "      idx = np.random.randint(0, train_X.shape[0], 1)\n",
    "      x = train_X[idx]\n",
    "      y = train_y[idx]\n",
    "      if(ones_count > zeros_count and y == 0):\n",
    "        new_train_y.append(y)\n",
    "        new_train_x.append(x)\n",
    "        accumulated_sz += 1\n",
    "        zeros_count += 1\n",
    "      elif(zeros_count > ones_count and y == 1):\n",
    "        new_train_y.append(y)\n",
    "        new_train_x.append(x)\n",
    "        accumulated_sz += 1\n",
    "        ones_count += 1\n",
    "      elif(zeros_count == ones_count):\n",
    "        if y==1: ones_count += 1\n",
    "        else: zeros_count += 1\n",
    "        new_train_y.append(y)\n",
    "        new_train_x.append(x)\n",
    "        accumulated_sz += 1\n",
    "    train_X = np.array(new_train_x).reshape(train_sample_sz, -1)\n",
    "    train_y = np.array(new_train_y).reshape(train_sample_sz)\n",
    "    \n",
    "    #return subsample\n",
    "    return train_X, train_y"
   ]
  },
  {
   "cell_type": "markdown",
   "metadata": {
    "id": "UKl2XKCgVtoH"
   },
   "source": [
    "Evaluate model:"
   ]
  },
  {
   "cell_type": "code",
   "execution_count": 78,
   "metadata": {},
   "outputs": [],
   "source": [
    "train_sample_sz = 4 #use a subset of training data\n",
    "d = 2 #number of control registers\n",
    "\n",
    "#Process data\n",
    "train_X, train_y, test_X, test_y = process_data(train_X, train_y, test_X, test_y)\n",
    "\n",
    "n_test = test_X.shape[0]\n",
    "\n"
   ]
  },
  {
   "cell_type": "code",
   "execution_count": 79,
   "metadata": {
    "colab": {
     "base_uri": "https://localhost:8080/"
    },
    "id": "i3fenq9_SI7S",
    "outputId": "c1dabcbc-2f59-43c3-b30f-543accfd3ea6"
   },
   "outputs": [
    {
     "name": "stdout",
     "output_type": "stream",
     "text": [
      "Average accuracy for d=2, N=4: 0.7917159763313609\n"
     ]
    }
   ],
   "source": [
    "\n",
    "accuracy = []\n",
    "\n",
    "for itr in range(10):\n",
    "    predictions = np.empty(n_test)\n",
    "\n",
    "    sample_train_X, sample_train_y = subsample(train_X, train_y, train_sample_sz)\n",
    "    \n",
    "    ss = superposition_sampler(train_sample_sz, d)\n",
    "    cc = cosine_classifier(train_sample_sz, d)\n",
    "    m = measure(train_sample_sz, d)\n",
    "    \n",
    "    for i in range(n_test):\n",
    "        circ = stateprep(sample_train_X, sample_train_y, test_X[i], d)\n",
    "        circ.compose(ss, inplace=True)\n",
    "        circ.compose(cc, inplace=True)\n",
    "        circ.compose(m, inplace=True)\n",
    "        res = execute(circ, Aer.get_backend('qasm_simulator'), shots=100).result().get_counts()\n",
    "        predictions[i] = int(max(res, key=res.get))\n",
    "    accuracy.append(accuracy_score(predictions, test_y))\n",
    "\n",
    "print(f'Average accuracy for d={d}, N={train_sample_sz}: {np.mean(accuracy)}')"
   ]
  },
  {
   "cell_type": "code",
   "execution_count": 80,
   "metadata": {
    "colab": {
     "base_uri": "https://localhost:8080/"
    },
    "id": "-ehxPwEibJYJ",
    "outputId": "e04ce4d6-6087-4b2f-980f-9ede740691d8"
   },
   "outputs": [
    {
     "data": {
      "text/plain": [
       "[0.9704142011834319,\n",
       " 0.9171597633136095,\n",
       " 0.5857988165680473,\n",
       " 0.6331360946745562,\n",
       " 0.8461538461538461,\n",
       " 0.9822485207100592,\n",
       " 0.8875739644970414,\n",
       " 0.4911242603550296,\n",
       " 1.0,\n",
       " 0.6035502958579881]"
      ]
     },
     "execution_count": 80,
     "metadata": {},
     "output_type": "execute_result"
    }
   ],
   "source": [
    "accuracy"
   ]
  },
  {
   "cell_type": "code",
   "execution_count": 81,
   "metadata": {},
   "outputs": [
    {
     "data": {
      "text/plain": [
       "0.48520710059171596"
      ]
     },
     "execution_count": 81,
     "metadata": {},
     "output_type": "execute_result"
    }
   ],
   "source": [
    "sum(test_y)/test_y.shape[0]"
   ]
  },
  {
   "cell_type": "markdown",
   "metadata": {
    "id": "RDPhiuuKrimr"
   },
   "source": [
    "Debugging"
   ]
  },
  {
   "cell_type": "code",
   "execution_count": 82,
   "metadata": {},
   "outputs": [],
   "source": [
    "sample_train_X = normalize(sample_train_X, norm=\"l2\")\n",
    "test_X = normalize(test_X, norm=\"l2\")\n",
    "\n"
   ]
  },
  {
   "cell_type": "code",
   "execution_count": 84,
   "metadata": {
    "colab": {
     "base_uri": "https://localhost:8080/",
     "height": 765
    },
    "id": "KOm6GAlPcNKI",
    "outputId": "5bed916d-e28f-4393-a17c-1c99c6a54dd7"
   },
   "outputs": [
    {
     "data": {
      "image/png": "[encoded data removed]",
      "text/plain": [
       "<Figure size 432x288 with 1 Axes>"
      ]
     },
     "metadata": {
      "needs_background": "light"
     },
     "output_type": "display_data"
    },
    {
     "data": {
      "image/png": "[encoded data removed]",
      "text/plain": [
       "<Figure size 432x288 with 1 Axes>"
      ]
     },
     "metadata": {
      "needs_background": "light"
     },
     "output_type": "display_data"
    },
    {
     "data": {
      "image/png": "[encoded data removed]",
      "text/plain": [
       "<Figure size 432x288 with 1 Axes>"
      ]
     },
     "metadata": {
      "needs_background": "light"
     },
     "output_type": "display_data"
    }
   ],
   "source": [
    "plot_data(sample_train_X, sample_train_y, test_X[i])\n",
    "plot_data(test_X, test_y, test_X[i])\n",
    "plot_data(test_X, predictions, test_X[i])"
   ]
  },
  {
   "cell_type": "code",
   "execution_count": 67,
   "metadata": {
    "id": "DhW6AduBrVN8"
   },
   "outputs": [
    {
     "data": {
      "text/plain": [
       "[1.0,\n",
       " 0.9945945945945946,\n",
       " 0.9027027027027027,\n",
       " 0.7783783783783784,\n",
       " 0.9621621621621622,\n",
       " 0.9675675675675676,\n",
       " 0.9783783783783784,\n",
       " 0.9945945945945946,\n",
       " 0.4648648648648649,\n",
       " 0.9945945945945946]"
      ]
     },
     "execution_count": 67,
     "metadata": {},
     "output_type": "execute_result"
    }
   ],
   "source": [
    "accuracy"
   ]
  },
  {
   "cell_type": "code",
   "execution_count": 68,
   "metadata": {},
   "outputs": [
    {
     "data": {
      "text/plain": [
       "[1.0,\n",
       " 0.9945945945945946,\n",
       " 0.9027027027027027,\n",
       " 0.7783783783783784,\n",
       " 0.9621621621621622,\n",
       " 0.9675675675675676,\n",
       " 0.9783783783783784,\n",
       " 0.9945945945945946,\n",
       " 0.4648648648648649,\n",
       " 0.9945945945945946]"
      ]
     },
     "execution_count": 68,
     "metadata": {},
     "output_type": "execute_result"
    }
   ],
   "source": [
    "accuracy"
   ]
  },
  {
   "cell_type": "code",
   "execution_count": null,
   "metadata": {},
   "outputs": [],
   "source": []
  }
 ],
 "metadata": {
  "colab": {
   "collapsed_sections": [],
   "name": "MNIST_testing.ipynb",
   "provenance": []
  },
  "kernelspec": {
   "display_name": "Python 3 (ipykernel)",
   "language": "python",
   "name": "python3"
  },
  "language_info": {
   "codemirror_mode": {
    "name": "ipython",
    "version": 3
   },
   "file_extension": ".py",
   "mimetype": "text/x-python",
   "name": "python",
   "nbconvert_exporter": "python",
   "pygments_lexer": "ipython3",
   "version": "3.9.7"
  }
 },
 "nbformat": 4,
 "nbformat_minor": 1
}
