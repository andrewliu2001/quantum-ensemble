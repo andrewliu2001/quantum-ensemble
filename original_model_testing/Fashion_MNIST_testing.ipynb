{
  "nbformat": 4,
  "nbformat_minor": 0,
  "metadata": {
    "colab": {
      "name": "Fashion_MNIST_testing.ipynb",
      "provenance": []
    },
    "kernelspec": {
      "name": "python3",
      "display_name": "Python 3"
    },
    "language_info": {
      "name": "python"
    }
  },
  "cells": [
    {
      "cell_type": "code",
      "execution_count": null,
      "metadata": {
        "colab": {
          "base_uri": "https://localhost:8080/"
        },
        "id": "rsw97vVlMrRe",
        "outputId": "23682b28-e127-4e20-c84d-86ceed8edb76"
      },
      "outputs": [
        {
          "output_type": "stream",
          "name": "stdout",
          "text": [
            "\u001b[K     |████████████████████████████████| 6.5 MB 4.8 MB/s \n",
            "\u001b[K     |████████████████████████████████| 18.0 MB 229 kB/s \n",
            "\u001b[K     |████████████████████████████████| 240 kB 45.3 MB/s \n",
            "\u001b[K     |████████████████████████████████| 200 kB 40.4 MB/s \n",
            "\u001b[K     |████████████████████████████████| 112 kB 34.3 MB/s \n",
            "\u001b[K     |████████████████████████████████| 54 kB 2.0 MB/s \n",
            "\u001b[K     |████████████████████████████████| 1.6 MB 36.8 MB/s \n",
            "\u001b[K     |████████████████████████████████| 49 kB 1.5 MB/s \n",
            "\u001b[K     |████████████████████████████████| 37.5 MB 1.3 MB/s \n",
            "\u001b[K     |████████████████████████████████| 943 kB 55.4 MB/s \n",
            "\u001b[K     |████████████████████████████████| 49 kB 4.0 MB/s \n",
            "\u001b[K     |████████████████████████████████| 38.1 MB 1.3 MB/s \n",
            "\u001b[K     |████████████████████████████████| 3.6 MB 37.2 MB/s \n",
            "\u001b[K     |████████████████████████████████| 113 kB 47.1 MB/s \n",
            "\u001b[?25h  Building wheel for qiskit (setup.py) ... \u001b[?25l\u001b[?25hdone\n",
            "  Building wheel for python-constraint (setup.py) ... \u001b[?25l\u001b[?25hdone\n",
            "\u001b[31mERROR: pip's dependency resolver does not currently take into account all the packages that are installed. This behaviour is the source of the following dependency conflicts.\n",
            "albumentations 0.1.12 requires imgaug<0.2.7,>=0.2.5, but you have imgaug 0.2.9 which is incompatible.\u001b[0m\n"
          ]
        }
      ],
      "source": [
        "pip -q install qiskit"
      ]
    },
    {
      "cell_type": "code",
      "source": [
        "pip -q install pylatexenc"
      ],
      "metadata": {
        "colab": {
          "base_uri": "https://localhost:8080/"
        },
        "id": "4PTDmcaXMvL1",
        "outputId": "7192c101-8b5f-45f9-dd32-e93c61616906"
      },
      "execution_count": null,
      "outputs": [
        {
          "output_type": "stream",
          "name": "stdout",
          "text": [
            "\u001b[?25l\r\u001b[K     |██                              | 10 kB 22.6 MB/s eta 0:00:01\r\u001b[K     |████                            | 20 kB 15.2 MB/s eta 0:00:01\r\u001b[K     |██████                          | 30 kB 10.4 MB/s eta 0:00:01\r\u001b[K     |████████                        | 40 kB 9.2 MB/s eta 0:00:01\r\u001b[K     |██████████                      | 51 kB 4.5 MB/s eta 0:00:01\r\u001b[K     |████████████                    | 61 kB 5.3 MB/s eta 0:00:01\r\u001b[K     |██████████████                  | 71 kB 5.8 MB/s eta 0:00:01\r\u001b[K     |████████████████▏               | 81 kB 6.0 MB/s eta 0:00:01\r\u001b[K     |██████████████████▏             | 92 kB 6.6 MB/s eta 0:00:01\r\u001b[K     |████████████████████▏           | 102 kB 5.2 MB/s eta 0:00:01\r\u001b[K     |██████████████████████▏         | 112 kB 5.2 MB/s eta 0:00:01\r\u001b[K     |████████████████████████▏       | 122 kB 5.2 MB/s eta 0:00:01\r\u001b[K     |██████████████████████████▏     | 133 kB 5.2 MB/s eta 0:00:01\r\u001b[K     |████████████████████████████▏   | 143 kB 5.2 MB/s eta 0:00:01\r\u001b[K     |██████████████████████████████▎ | 153 kB 5.2 MB/s eta 0:00:01\r\u001b[K     |████████████████████████████████| 162 kB 5.2 MB/s \n",
            "\u001b[?25h  Building wheel for pylatexenc (setup.py) ... \u001b[?25l\u001b[?25hdone\n"
          ]
        }
      ]
    },
    {
      "cell_type": "code",
      "source": [
        "pip -q install ibm_quantum_widgets"
      ],
      "metadata": {
        "colab": {
          "base_uri": "https://localhost:8080/"
        },
        "id": "brJmL3WUMv78",
        "outputId": "5f2c9510-6761-4c58-8738-a8d577f67d68"
      },
      "execution_count": null,
      "outputs": [
        {
          "output_type": "stream",
          "name": "stdout",
          "text": [
            "\u001b[?25l\r\u001b[K     |▎                               | 10 kB 20.0 MB/s eta 0:00:01\r\u001b[K     |▋                               | 20 kB 21.3 MB/s eta 0:00:01\r\u001b[K     |█                               | 30 kB 12.2 MB/s eta 0:00:01\r\u001b[K     |█▎                              | 40 kB 9.7 MB/s eta 0:00:01\r\u001b[K     |█▋                              | 51 kB 4.7 MB/s eta 0:00:01\r\u001b[K     |██                              | 61 kB 5.4 MB/s eta 0:00:01\r\u001b[K     |██▎                             | 71 kB 5.8 MB/s eta 0:00:01\r\u001b[K     |██▋                             | 81 kB 5.8 MB/s eta 0:00:01\r\u001b[K     |███                             | 92 kB 6.4 MB/s eta 0:00:01\r\u001b[K     |███▎                            | 102 kB 5.6 MB/s eta 0:00:01\r\u001b[K     |███▋                            | 112 kB 5.6 MB/s eta 0:00:01\r\u001b[K     |████                            | 122 kB 5.6 MB/s eta 0:00:01\r\u001b[K     |████▎                           | 133 kB 5.6 MB/s eta 0:00:01\r\u001b[K     |████▋                           | 143 kB 5.6 MB/s eta 0:00:01\r\u001b[K     |█████                           | 153 kB 5.6 MB/s eta 0:00:01\r\u001b[K     |█████▎                          | 163 kB 5.6 MB/s eta 0:00:01\r\u001b[K     |█████▋                          | 174 kB 5.6 MB/s eta 0:00:01\r\u001b[K     |██████                          | 184 kB 5.6 MB/s eta 0:00:01\r\u001b[K     |██████▎                         | 194 kB 5.6 MB/s eta 0:00:01\r\u001b[K     |██████▋                         | 204 kB 5.6 MB/s eta 0:00:01\r\u001b[K     |███████                         | 215 kB 5.6 MB/s eta 0:00:01\r\u001b[K     |███████▎                        | 225 kB 5.6 MB/s eta 0:00:01\r\u001b[K     |███████▋                        | 235 kB 5.6 MB/s eta 0:00:01\r\u001b[K     |████████                        | 245 kB 5.6 MB/s eta 0:00:01\r\u001b[K     |████████▎                       | 256 kB 5.6 MB/s eta 0:00:01\r\u001b[K     |████████▋                       | 266 kB 5.6 MB/s eta 0:00:01\r\u001b[K     |█████████                       | 276 kB 5.6 MB/s eta 0:00:01\r\u001b[K     |█████████▎                      | 286 kB 5.6 MB/s eta 0:00:01\r\u001b[K     |█████████▋                      | 296 kB 5.6 MB/s eta 0:00:01\r\u001b[K     |██████████                      | 307 kB 5.6 MB/s eta 0:00:01\r\u001b[K     |██████████▎                     | 317 kB 5.6 MB/s eta 0:00:01\r\u001b[K     |██████████▌                     | 327 kB 5.6 MB/s eta 0:00:01\r\u001b[K     |██████████▉                     | 337 kB 5.6 MB/s eta 0:00:01\r\u001b[K     |███████████▏                    | 348 kB 5.6 MB/s eta 0:00:01\r\u001b[K     |███████████▌                    | 358 kB 5.6 MB/s eta 0:00:01\r\u001b[K     |███████████▉                    | 368 kB 5.6 MB/s eta 0:00:01\r\u001b[K     |████████████▏                   | 378 kB 5.6 MB/s eta 0:00:01\r\u001b[K     |████████████▌                   | 389 kB 5.6 MB/s eta 0:00:01\r\u001b[K     |████████████▉                   | 399 kB 5.6 MB/s eta 0:00:01\r\u001b[K     |█████████████▏                  | 409 kB 5.6 MB/s eta 0:00:01\r\u001b[K     |█████████████▌                  | 419 kB 5.6 MB/s eta 0:00:01\r\u001b[K     |█████████████▉                  | 430 kB 5.6 MB/s eta 0:00:01\r\u001b[K     |██████████████▏                 | 440 kB 5.6 MB/s eta 0:00:01\r\u001b[K     |██████████████▌                 | 450 kB 5.6 MB/s eta 0:00:01\r\u001b[K     |██████████████▉                 | 460 kB 5.6 MB/s eta 0:00:01\r\u001b[K     |███████████████▏                | 471 kB 5.6 MB/s eta 0:00:01\r\u001b[K     |███████████████▌                | 481 kB 5.6 MB/s eta 0:00:01\r\u001b[K     |███████████████▉                | 491 kB 5.6 MB/s eta 0:00:01\r\u001b[K     |████████████████▏               | 501 kB 5.6 MB/s eta 0:00:01\r\u001b[K     |████████████████▌               | 512 kB 5.6 MB/s eta 0:00:01\r\u001b[K     |████████████████▉               | 522 kB 5.6 MB/s eta 0:00:01\r\u001b[K     |█████████████████▏              | 532 kB 5.6 MB/s eta 0:00:01\r\u001b[K     |█████████████████▌              | 542 kB 5.6 MB/s eta 0:00:01\r\u001b[K     |█████████████████▉              | 552 kB 5.6 MB/s eta 0:00:01\r\u001b[K     |██████████████████▏             | 563 kB 5.6 MB/s eta 0:00:01\r\u001b[K     |██████████████████▌             | 573 kB 5.6 MB/s eta 0:00:01\r\u001b[K     |██████████████████▉             | 583 kB 5.6 MB/s eta 0:00:01\r\u001b[K     |███████████████████▏            | 593 kB 5.6 MB/s eta 0:00:01\r\u001b[K     |███████████████████▌            | 604 kB 5.6 MB/s eta 0:00:01\r\u001b[K     |███████████████████▉            | 614 kB 5.6 MB/s eta 0:00:01\r\u001b[K     |████████████████████▏           | 624 kB 5.6 MB/s eta 0:00:01\r\u001b[K     |████████████████████▌           | 634 kB 5.6 MB/s eta 0:00:01\r\u001b[K     |████████████████████▉           | 645 kB 5.6 MB/s eta 0:00:01\r\u001b[K     |█████████████████████           | 655 kB 5.6 MB/s eta 0:00:01\r\u001b[K     |█████████████████████▍          | 665 kB 5.6 MB/s eta 0:00:01\r\u001b[K     |█████████████████████▊          | 675 kB 5.6 MB/s eta 0:00:01\r\u001b[K     |██████████████████████          | 686 kB 5.6 MB/s eta 0:00:01\r\u001b[K     |██████████████████████▍         | 696 kB 5.6 MB/s eta 0:00:01\r\u001b[K     |██████████████████████▊         | 706 kB 5.6 MB/s eta 0:00:01\r\u001b[K     |███████████████████████         | 716 kB 5.6 MB/s eta 0:00:01\r\u001b[K     |███████████████████████▍        | 727 kB 5.6 MB/s eta 0:00:01\r\u001b[K     |███████████████████████▊        | 737 kB 5.6 MB/s eta 0:00:01\r\u001b[K     |████████████████████████        | 747 kB 5.6 MB/s eta 0:00:01\r\u001b[K     |████████████████████████▍       | 757 kB 5.6 MB/s eta 0:00:01\r\u001b[K     |████████████████████████▊       | 768 kB 5.6 MB/s eta 0:00:01\r\u001b[K     |█████████████████████████       | 778 kB 5.6 MB/s eta 0:00:01\r\u001b[K     |█████████████████████████▍      | 788 kB 5.6 MB/s eta 0:00:01\r\u001b[K     |█████████████████████████▊      | 798 kB 5.6 MB/s eta 0:00:01\r\u001b[K     |██████████████████████████      | 808 kB 5.6 MB/s eta 0:00:01\r\u001b[K     |██████████████████████████▍     | 819 kB 5.6 MB/s eta 0:00:01\r\u001b[K     |██████████████████████████▊     | 829 kB 5.6 MB/s eta 0:00:01\r\u001b[K     |███████████████████████████     | 839 kB 5.6 MB/s eta 0:00:01\r\u001b[K     |███████████████████████████▍    | 849 kB 5.6 MB/s eta 0:00:01\r\u001b[K     |███████████████████████████▊    | 860 kB 5.6 MB/s eta 0:00:01\r\u001b[K     |████████████████████████████    | 870 kB 5.6 MB/s eta 0:00:01\r\u001b[K     |████████████████████████████▍   | 880 kB 5.6 MB/s eta 0:00:01\r\u001b[K     |████████████████████████████▊   | 890 kB 5.6 MB/s eta 0:00:01\r\u001b[K     |█████████████████████████████   | 901 kB 5.6 MB/s eta 0:00:01\r\u001b[K     |█████████████████████████████▍  | 911 kB 5.6 MB/s eta 0:00:01\r\u001b[K     |█████████████████████████████▊  | 921 kB 5.6 MB/s eta 0:00:01\r\u001b[K     |██████████████████████████████  | 931 kB 5.6 MB/s eta 0:00:01\r\u001b[K     |██████████████████████████████▍ | 942 kB 5.6 MB/s eta 0:00:01\r\u001b[K     |██████████████████████████████▊ | 952 kB 5.6 MB/s eta 0:00:01\r\u001b[K     |███████████████████████████████ | 962 kB 5.6 MB/s eta 0:00:01\r\u001b[K     |███████████████████████████████▍| 972 kB 5.6 MB/s eta 0:00:01\r\u001b[K     |███████████████████████████████▋| 983 kB 5.6 MB/s eta 0:00:01\r\u001b[K     |████████████████████████████████| 993 kB 5.6 MB/s eta 0:00:01\r\u001b[K     |████████████████████████████████| 993 kB 5.6 MB/s \n",
            "\u001b[?25h"
          ]
        }
      ]
    },
    {
      "cell_type": "code",
      "source": [
        "import matplotlib.pyplot as plt\n",
        "import numpy as np\n",
        "import pandas as pd\n",
        "from mpl_toolkits import mplot3d\n",
        "import mpl_toolkits.mplot3d.art3d as art3d\n",
        "from qiskit import *\n",
        "from qiskit.tools.jupyter import *\n",
        "from qiskit.visualization import *\n",
        "from ibm_quantum_widgets import *\n",
        "from qiskit.providers.aer import QasmSimulator\n",
        "import random\n",
        "#from keras.datasets import mnist\n",
        "from sklearn.decomposition import PCA\n",
        "from sklearn.metrics import accuracy_score\n",
        "from sklearn.datasets import load_digits\n",
        "from sklearn.model_selection import train_test_split\n",
        "from sklearn.preprocessing import normalize, StandardScaler\n",
        "import tensorflow as tf"
      ],
      "metadata": {
        "id": "vwQj1scpMwfL"
      },
      "execution_count": null,
      "outputs": []
    },
    {
      "cell_type": "code",
      "source": [
        "def stateprep(x_train, y_train, x_test, d):\n",
        "\n",
        "  \"\"\"\n",
        "  x_train: array of training features (n_samples, 2)\n",
        "  y_train: array of binary training labels (n_samples, )\n",
        "  x_test: array of test features (2, )\n",
        "  d: number of control qubits. Generates 2^d transformations to training data\n",
        "  \"\"\"\n",
        "\n",
        "  N = x_train.shape[0]\n",
        "\n",
        "  control_reg = QuantumRegister(max(d, 1), 'control')\n",
        "    \n",
        "  x_train_reg = QuantumRegister(N, 'x_train')\n",
        "  y_train_reg = QuantumRegister(N, 'y_train')\n",
        "  x_test_reg = QuantumRegister(1, 'x_test')\n",
        "  prediction_reg = QuantumRegister(1, 'prediction')\n",
        "  cr = ClassicalRegister(1, name = \"cr\")\n",
        "\n",
        "\n",
        "\n",
        "  stateprep = QuantumCircuit(control_reg, x_train_reg, y_train_reg, x_test_reg, prediction_reg, cr)\n",
        "\n",
        "  #create uniform superposition of control qubits\n",
        "  for i in range(d):\n",
        "    stateprep.h(control_reg[i])\n",
        "\n",
        "\n",
        "  #initialize training data\n",
        "  for i in range(x_train.shape[0]):\n",
        "    stateprep.initialize(x_train[i]/np.linalg.norm(x_train[i]), i+d)\n",
        "\n",
        "  for i in range(y_train.shape[0]):\n",
        "    if y_train[i] == 1:\n",
        "      stateprep.initialize([0, 1], i+d+x_train.shape[0])\n",
        "    else:\n",
        "      stateprep.initialize([1, 0], i+d+x_train.shape[0])\n",
        "\n",
        "  #initialize test data\n",
        "  stateprep.initialize(x_test/np.linalg.norm(x_test), d+2*N)\n",
        "\n",
        "\n",
        "  stateprep.barrier()\n",
        "\n",
        "  return stateprep\n",
        "\n",
        "def superposition_sampler(N, d):\n",
        "\n",
        "    \"\"\"\n",
        "    x_train: array of training features\n",
        "    y_train: array of binary training labels\n",
        "    x_test: array of test features\n",
        "    d: number of control qubits. Generates 2^d transformations to training data\n",
        "    \"\"\"\n",
        "\n",
        "    control_reg = QuantumRegister(max(d,1), 'control')\n",
        "    x_train_reg = QuantumRegister(N, 'x_train')\n",
        "    y_train_reg = QuantumRegister(N, 'y_train')\n",
        "    x_test_reg = QuantumRegister(1, 'x_test')\n",
        "    prediction_reg = QuantumRegister(1, 'prediction')\n",
        "    cr = ClassicalRegister(1, name = \"cr\")\n",
        "\n",
        "\n",
        "    sampler = QuantumCircuit(control_reg, x_train_reg, y_train_reg, x_test_reg, prediction_reg, cr)\n",
        "\n",
        "\n",
        "    for i in range(d):\n",
        "        l, m = random.sample(range(0,N), 2)\n",
        "        lp, mp = random.sample(range(0,N), 2)\n",
        "\n",
        "        sampler.cswap(control_reg[i], x_train_reg[l], x_train_reg[m])\n",
        "        sampler.cswap(control_reg[i], y_train_reg[l], y_train_reg[m])\n",
        "        sampler.x(i)\n",
        "        sampler.cswap(control_reg[i], x_train_reg[lp], x_train_reg[mp])\n",
        "        sampler.cswap(control_reg[i], y_train_reg[lp], y_train_reg[mp])\n",
        "        sampler.barrier()\n",
        "\n",
        "\n",
        "    return sampler\n",
        "\n",
        "def cosine_classifier(N, d):\n",
        "\n",
        "  \"\"\"\n",
        "  N: number of train samples\n",
        "  d: number of control qubits. Generates 2^d transformations to training data\n",
        "  \"\"\"\n",
        "  control_reg = QuantumRegister(max(d,1), 'control')\n",
        "  x_train_reg = QuantumRegister(N, 'x_train')\n",
        "  y_train_reg = QuantumRegister(N, 'y_train')\n",
        "  x_test_reg = QuantumRegister(1, 'x_test')\n",
        "  prediction_reg = QuantumRegister(1, 'prediction')\n",
        "  cr = ClassicalRegister(1, name = \"cr\")\n",
        "\n",
        "\n",
        "\n",
        "  f = QuantumCircuit(control_reg, x_train_reg, y_train_reg, x_test_reg, prediction_reg, cr)\n",
        "  f.h(prediction_reg[0])\n",
        "\n",
        "  k = random.sample(range(0, N), 1)\n",
        "\n",
        "  f.cswap(prediction_reg[0], x_train_reg[k], x_test_reg[0])\n",
        "  f.h(prediction_reg[0])\n",
        "  f.cx(y_train_reg[k], prediction_reg[0])\n",
        "  f.barrier()\n",
        "  \n",
        "  return f\n",
        "\n",
        "def measure(N, d):\n",
        "    \"\"\"\n",
        "    N: number of train samples\n",
        "    d: number of control qubits. Generates 2^d transformations to training data\n",
        "    \"\"\"\n",
        "        \n",
        "    control_reg = QuantumRegister(max(d,1), 'control')\n",
        "    x_train_reg = QuantumRegister(N, 'x_train')\n",
        "    y_train_reg = QuantumRegister(N, 'y_train')\n",
        "    x_test_reg = QuantumRegister(1, 'x_test')\n",
        "    prediction_reg = QuantumRegister(1, 'prediction')\n",
        "    cr = ClassicalRegister(1, name = \"cr\")\n",
        "    \n",
        "    m = QuantumCircuit(control_reg, x_train_reg, y_train_reg, x_test_reg, prediction_reg, cr)\n",
        "    m.measure(prediction_reg[0], cr[0])\n",
        "    \n",
        "    return m\n",
        "\n",
        "def plot_data(x_train, y_train, x_test):\n",
        "    '''\n",
        "    x_train: (n_samples, 2)\n",
        "    y_train: (n_samples, )\n",
        "    x_test: (2, )\n",
        "    '''\n",
        "\n",
        "    cdict = {0: 'red', 1: 'blue'}\n",
        "\n",
        "    fig, ax = plt.subplots()\n",
        "    for g in np.unique(y_train):\n",
        "        ix = np.where(y_train == g)\n",
        "        ax.scatter(x_train[ix, 0], x_train[ix, 1], c = cdict[g], label = int(g))\n",
        "    ax.scatter(x_test[0], x_test[1], color='green')\n",
        "    ax.legend()\n",
        "    \n",
        "    plt.xlim([-2,2])\n",
        "    plt.ylim([-2,2])\n",
        "    plt.show()\n",
        "\n",
        "    \"\"\"\n",
        "\n",
        "    x_test = x_test[np.newaxis, :]\n",
        "    x = np.concatenate((x_train, x_test), axis = 0)\n",
        "    y = np.concatenate((y_train, np.asarray([-1])), axis = 0)\n",
        "    \n",
        "    data = pd.DataFrame(columns = ['x1', 'x2', 'y'])\n",
        "    data['x1'] = x[:, 0]\n",
        "    data['x2'] = x[:, 1]\n",
        "    data['y'] = y\n",
        "    \n",
        "    sns.catplot(x='x1', y='x2', hue='y', data=data)\n",
        "    \n",
        "    return\n",
        "\n",
        "    \"\"\""
      ],
      "metadata": {
        "id": "tnULAdQ6NBw3"
      },
      "execution_count": null,
      "outputs": []
    },
    {
      "cell_type": "code",
      "source": [
        "fashion_mnist = tf.keras.datasets.fashion_mnist\n",
        "\n",
        "(train_X, train_y), (test_X, test_y) = fashion_mnist.load_data()"
      ],
      "metadata": {
        "id": "n5TLz5vIM5bG"
      },
      "execution_count": null,
      "outputs": []
    },
    {
      "cell_type": "code",
      "source": [
        "def process_data(train_X, train_y, test_X, test_y):\n",
        "    #take only the values of y that are 9 or 0 and apply filter\n",
        "    filter_train = (train_y == 9) + (train_y == 0)\n",
        "    train_y = train_y[filter_train]\n",
        "    train_X = train_X[filter_train]\n",
        "\n",
        "\n",
        "    filter_test = (test_y == 9) + (test_y == 0)\n",
        "    test_y = test_y[filter_test]\n",
        "    test_X = test_X[filter_test]\n",
        "    \n",
        "    #Convert to 1s or 0s\n",
        "    train_y = (train_y == 9)\n",
        "    test_y = (test_y == 9)\n",
        "    \n",
        "    #vectorize matrices\n",
        "    train_X = train_X.reshape(train_X.shape[0], -1)\n",
        "    test_X = test_X.reshape(test_X.shape[0], -1)\n",
        "    \n",
        "    #apply standardization\n",
        "    \n",
        "    train_X = StandardScaler().fit_transform(train_X)\n",
        "    test_X = StandardScaler().fit_transform(test_X)\n",
        "    \n",
        "\n",
        "    \n",
        "    #apply PCA\n",
        "    pca = PCA(n_components = 2, svd_solver='full')\n",
        "    pca.fit(train_X)\n",
        "    train_X = pca.transform(train_X)\n",
        "    test_X = pca.transform(test_X)\n",
        "    \n",
        "    #Apply a uniform shift to the data (works better with cosine classifier)\n",
        "    \n",
        "    train_X = train_X + np.array([0, 20])\n",
        "    test_X = test_X + np.array([0, 20])\n",
        "    \n",
        "    #return transformed data\n",
        "    \n",
        "    return train_X, train_y, test_X, test_y"
      ],
      "metadata": {
        "id": "QBgulouvM9_-"
      },
      "execution_count": null,
      "outputs": []
    },
    {
      "cell_type": "code",
      "source": [
        "def subsample(train_X, train_y, train_sample_sz):\n",
        "    #Take a sample of training data and make sure each label is equally represented\n",
        "    #sample_indices = np.random.randint(low=0,high=train_X.shape[0], size=train_sample_sz)\n",
        "    #train_X = train_X[sample_indices]\n",
        "    #train_y = train_y[sample_indices]\n",
        "\n",
        "    accumulated_sz = 0\n",
        "    ones_count = 0\n",
        "    zeros_count = 0\n",
        "    new_train_y = []\n",
        "    new_train_x = []\n",
        "\n",
        "    while(accumulated_sz < train_sample_sz):\n",
        "      idx = np.random.randint(0, train_X.shape[0], 1)\n",
        "      x = train_X[idx]\n",
        "      y = train_y[idx]\n",
        "      if(ones_count > zeros_count and y == 0):\n",
        "        new_train_y.append(y)\n",
        "        new_train_x.append(x)\n",
        "        accumulated_sz += 1\n",
        "        zeros_count += 1\n",
        "      elif(zeros_count > ones_count and y == 1):\n",
        "        new_train_y.append(y)\n",
        "        new_train_x.append(x)\n",
        "        accumulated_sz += 1\n",
        "        ones_count += 1\n",
        "      elif(zeros_count == ones_count):\n",
        "        if y==1: ones_count += 1\n",
        "        else: zeros_count += 1\n",
        "        new_train_y.append(y)\n",
        "        new_train_x.append(x)\n",
        "        accumulated_sz += 1\n",
        "    train_X = np.array(new_train_x).reshape(train_sample_sz, -1)\n",
        "    train_y = np.array(new_train_y).reshape(train_sample_sz)\n",
        "    \n",
        "    #return subsample\n",
        "    return train_X, train_y"
      ],
      "metadata": {
        "id": "AJ3cLH4pNOPL"
      },
      "execution_count": null,
      "outputs": []
    },
    {
      "cell_type": "code",
      "source": [
        "train_sample_sz = 1 #use a subset of training data\n",
        "d = 0 #number of control registers\n",
        "\n",
        "#Process data\n",
        "train_X, train_y, test_X, test_y = process_data(train_X, train_y, test_X, test_y)\n",
        "test_X = test_X[:120]\n",
        "test_y = test_y[:120]\n",
        "n_test = test_X.shape[0]"
      ],
      "metadata": {
        "id": "34xaNqobNO87"
      },
      "execution_count": null,
      "outputs": []
    },
    {
      "cell_type": "code",
      "source": [
        "test_y.shape"
      ],
      "metadata": {
        "colab": {
          "base_uri": "https://localhost:8080/"
        },
        "id": "kB036DdbNe9f",
        "outputId": "5dbffa4f-dd7f-43ed-a458-6c3878e30935"
      },
      "execution_count": null,
      "outputs": [
        {
          "output_type": "execute_result",
          "data": {
            "text/plain": [
              "(120,)"
            ]
          },
          "metadata": {},
          "execution_count": 72
        }
      ]
    },
    {
      "cell_type": "code",
      "source": [
        "\n",
        "accuracy = []\n",
        "\n",
        "for itr in range(10):\n",
        "    predictions = np.empty(n_test)\n",
        "\n",
        "    sample_train_X, sample_train_y = subsample(train_X, train_y, train_sample_sz)\n",
        "    \n",
        "    ss = superposition_sampler(train_sample_sz, d)\n",
        "    cc = cosine_classifier(train_sample_sz, d)\n",
        "    m = measure(train_sample_sz, d)\n",
        "    \n",
        "    for i in range(n_test):\n",
        "        circ = stateprep(sample_train_X, sample_train_y, test_X[i], d)\n",
        "        circ.compose(ss, inplace=True)\n",
        "        circ.compose(cc, inplace=True)\n",
        "        circ.compose(m, inplace=True)\n",
        "        res = execute(circ, Aer.get_backend('qasm_simulator'), shots=100).result().get_counts()\n",
        "        predictions[i] = int(max(res, key=res.get))\n",
        "    accuracy.append(accuracy_score(predictions, test_y))\n",
        "\n",
        "print(f'Average accuracy for d={d}, N={train_sample_sz}: {np.mean(accuracy)}')"
      ],
      "metadata": {
        "colab": {
          "base_uri": "https://localhost:8080/"
        },
        "id": "eG079cpnNT3r",
        "outputId": "3922e4d2-6cc4-4226-a6a5-2a99b525801b"
      },
      "execution_count": null,
      "outputs": [
        {
          "output_type": "stream",
          "name": "stdout",
          "text": [
            "Average accuracy for d=0, N=1: 0.5158333333333334\n"
          ]
        }
      ]
    },
    {
      "cell_type": "code",
      "source": [
        "sample_train_X = normalize(sample_train_X, norm=\"l2\")\n",
        "test_X = normalize(test_X, norm=\"l2\")"
      ],
      "metadata": {
        "id": "6gRirKVrNV7f"
      },
      "execution_count": null,
      "outputs": []
    },
    {
      "cell_type": "code",
      "source": [
        "plot_data(sample_train_X, sample_train_y, test_X[i])\n",
        "plot_data(test_X, test_y, test_X[i])\n",
        "plot_data(test_X, predictions, test_X[i])"
      ],
      "metadata": {
        "colab": {
          "base_uri": "https://localhost:8080/",
          "height": 773
        },
        "id": "G01Pzm8lOX87",
        "outputId": "29993fac-a035-4d44-99b1-f1270b378f67"
      },
      "execution_count": null,
      "outputs": [
        {
          "output_type": "display_data",
          "data": {
            "text/plain": [
              "<Figure size 432x288 with 1 Axes>"
            ],
            "image/png": "[encoded data removed]"
          },
          "metadata": {
            "needs_background": "light"
          }
        },
        {
          "output_type": "display_data",
          "data": {
            "text/plain": [
              "<Figure size 432x288 with 1 Axes>"
            ],
            "image/png": "[encoded data removed]"
          },
          "metadata": {
            "needs_background": "light"
          }
        },
        {
          "output_type": "display_data",
          "data": {
            "text/plain": [
              "<Figure size 432x288 with 1 Axes>"
            ],
            "image/png": "[encoded data removed]"
          },
          "metadata": {
            "needs_background": "light"
          }
        }
      ]
    },
    {
      "cell_type": "code",
      "source": [
        "np.std(accuracy)"
      ],
      "metadata": {
        "colab": {
          "base_uri": "https://localhost:8080/"
        },
        "id": "JHdKsjuCOY1o",
        "outputId": "1bac24ee-df8a-474f-93ff-1efe798e3d25"
      },
      "execution_count": null,
      "outputs": [
        {
          "output_type": "execute_result",
          "data": {
            "text/plain": [
              "0.03826987501068344"
            ]
          },
          "metadata": {},
          "execution_count": 76
        }
      ]
    },
    {
      "cell_type": "code",
      "source": [
        ""
      ],
      "metadata": {
        "id": "4Vn2c4i3QzK3"
      },
      "execution_count": null,
      "outputs": []
    }
  ]
}